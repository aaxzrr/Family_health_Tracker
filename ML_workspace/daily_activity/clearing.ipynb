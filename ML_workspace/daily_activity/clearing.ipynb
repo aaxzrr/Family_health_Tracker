{
 "cells": [
  {
   "cell_type": "markdown",
   "metadata": {},
   "source": [
    "### Import Cell"
   ]
  },
  {
   "cell_type": "code",
   "execution_count": 1,
   "metadata": {},
   "outputs": [],
   "source": [
    "import pandas as pd\n",
    "import numpy as np \n",
    "import tensorflow as tf \n",
    "\n",
    "import os\n",
    "import warnings\n",
    "warnings.simplefilter(action='ignore', category=SyntaxWarning)"
   ]
  },
  {
   "cell_type": "markdown",
   "metadata": {},
   "source": []
  },
  {
   "cell_type": "markdown",
   "metadata": {},
   "source": [
    "### Definition Folder"
   ]
  },
  {
   "cell_type": "markdown",
   "metadata": {},
   "source": [
    "load file from directory phone accel"
   ]
  },
  {
   "cell_type": "code",
   "execution_count": 2,
   "metadata": {},
   "outputs": [
    {
     "name": "stdout",
     "output_type": "stream",
     "text": [
      "D:\\bangkit\\capstone\\Family_health_Tracker\\ML_workspace\\daily_activity\\raw\\phone\\accel\\data_1600_accel_phone.txt\n",
      "D:\\bangkit\\capstone\\Family_health_Tracker\\ML_workspace\\daily_activity\\raw\\phone\\accel\\data_1601_accel_phone.txt\n",
      "D:\\bangkit\\capstone\\Family_health_Tracker\\ML_workspace\\daily_activity\\raw\\phone\\accel\\data_1602_accel_phone.txt\n",
      "D:\\bangkit\\capstone\\Family_health_Tracker\\ML_workspace\\daily_activity\\raw\\phone\\accel\\data_1603_accel_phone.txt\n",
      "D:\\bangkit\\capstone\\Family_health_Tracker\\ML_workspace\\daily_activity\\raw\\phone\\accel\\data_1604_accel_phone.txt\n",
      "D:\\bangkit\\capstone\\Family_health_Tracker\\ML_workspace\\daily_activity\\raw\\phone\\accel\\data_1605_accel_phone.txt\n",
      "D:\\bangkit\\capstone\\Family_health_Tracker\\ML_workspace\\daily_activity\\raw\\phone\\accel\\data_1606_accel_phone.txt\n",
      "D:\\bangkit\\capstone\\Family_health_Tracker\\ML_workspace\\daily_activity\\raw\\phone\\accel\\data_1607_accel_phone.txt\n",
      "D:\\bangkit\\capstone\\Family_health_Tracker\\ML_workspace\\daily_activity\\raw\\phone\\accel\\data_1608_accel_phone.txt\n",
      "D:\\bangkit\\capstone\\Family_health_Tracker\\ML_workspace\\daily_activity\\raw\\phone\\accel\\data_1609_accel_phone.txt\n",
      "D:\\bangkit\\capstone\\Family_health_Tracker\\ML_workspace\\daily_activity\\raw\\phone\\accel\\data_1610_accel_phone.txt\n",
      "D:\\bangkit\\capstone\\Family_health_Tracker\\ML_workspace\\daily_activity\\raw\\phone\\accel\\data_1611_accel_phone.txt\n",
      "D:\\bangkit\\capstone\\Family_health_Tracker\\ML_workspace\\daily_activity\\raw\\phone\\accel\\data_1612_accel_phone.txt\n",
      "D:\\bangkit\\capstone\\Family_health_Tracker\\ML_workspace\\daily_activity\\raw\\phone\\accel\\data_1613_accel_phone.txt\n",
      "D:\\bangkit\\capstone\\Family_health_Tracker\\ML_workspace\\daily_activity\\raw\\phone\\accel\\data_1614_accel_phone.txt\n",
      "D:\\bangkit\\capstone\\Family_health_Tracker\\ML_workspace\\daily_activity\\raw\\phone\\accel\\data_1615_accel_phone.txt\n",
      "D:\\bangkit\\capstone\\Family_health_Tracker\\ML_workspace\\daily_activity\\raw\\phone\\accel\\data_1616_accel_phone.txt\n",
      "D:\\bangkit\\capstone\\Family_health_Tracker\\ML_workspace\\daily_activity\\raw\\phone\\accel\\data_1617_accel_phone.txt\n",
      "D:\\bangkit\\capstone\\Family_health_Tracker\\ML_workspace\\daily_activity\\raw\\phone\\accel\\data_1618_accel_phone.txt\n",
      "D:\\bangkit\\capstone\\Family_health_Tracker\\ML_workspace\\daily_activity\\raw\\phone\\accel\\data_1619_accel_phone.txt\n",
      "D:\\bangkit\\capstone\\Family_health_Tracker\\ML_workspace\\daily_activity\\raw\\phone\\accel\\data_1620_accel_phone.txt\n",
      "D:\\bangkit\\capstone\\Family_health_Tracker\\ML_workspace\\daily_activity\\raw\\phone\\accel\\data_1621_accel_phone.txt\n",
      "D:\\bangkit\\capstone\\Family_health_Tracker\\ML_workspace\\daily_activity\\raw\\phone\\accel\\data_1622_accel_phone.txt\n",
      "D:\\bangkit\\capstone\\Family_health_Tracker\\ML_workspace\\daily_activity\\raw\\phone\\accel\\data_1623_accel_phone.txt\n",
      "D:\\bangkit\\capstone\\Family_health_Tracker\\ML_workspace\\daily_activity\\raw\\phone\\accel\\data_1624_accel_phone.txt\n",
      "D:\\bangkit\\capstone\\Family_health_Tracker\\ML_workspace\\daily_activity\\raw\\phone\\accel\\data_1625_accel_phone.txt\n",
      "D:\\bangkit\\capstone\\Family_health_Tracker\\ML_workspace\\daily_activity\\raw\\phone\\accel\\data_1626_accel_phone.txt\n",
      "D:\\bangkit\\capstone\\Family_health_Tracker\\ML_workspace\\daily_activity\\raw\\phone\\accel\\data_1627_accel_phone.txt\n",
      "D:\\bangkit\\capstone\\Family_health_Tracker\\ML_workspace\\daily_activity\\raw\\phone\\accel\\data_1628_accel_phone.txt\n",
      "D:\\bangkit\\capstone\\Family_health_Tracker\\ML_workspace\\daily_activity\\raw\\phone\\accel\\data_1629_accel_phone.txt\n",
      "D:\\bangkit\\capstone\\Family_health_Tracker\\ML_workspace\\daily_activity\\raw\\phone\\accel\\data_1630_accel_phone.txt\n",
      "D:\\bangkit\\capstone\\Family_health_Tracker\\ML_workspace\\daily_activity\\raw\\phone\\accel\\data_1631_accel_phone.txt\n",
      "D:\\bangkit\\capstone\\Family_health_Tracker\\ML_workspace\\daily_activity\\raw\\phone\\accel\\data_1632_accel_phone.txt\n",
      "D:\\bangkit\\capstone\\Family_health_Tracker\\ML_workspace\\daily_activity\\raw\\phone\\accel\\data_1633_accel_phone.txt\n",
      "D:\\bangkit\\capstone\\Family_health_Tracker\\ML_workspace\\daily_activity\\raw\\phone\\accel\\data_1634_accel_phone.txt\n",
      "D:\\bangkit\\capstone\\Family_health_Tracker\\ML_workspace\\daily_activity\\raw\\phone\\accel\\data_1635_accel_phone.txt\n",
      "D:\\bangkit\\capstone\\Family_health_Tracker\\ML_workspace\\daily_activity\\raw\\phone\\accel\\data_1636_accel_phone.txt\n",
      "D:\\bangkit\\capstone\\Family_health_Tracker\\ML_workspace\\daily_activity\\raw\\phone\\accel\\data_1637_accel_phone.txt\n",
      "D:\\bangkit\\capstone\\Family_health_Tracker\\ML_workspace\\daily_activity\\raw\\phone\\accel\\data_1638_accel_phone.txt\n",
      "D:\\bangkit\\capstone\\Family_health_Tracker\\ML_workspace\\daily_activity\\raw\\phone\\accel\\data_1639_accel_phone.txt\n",
      "D:\\bangkit\\capstone\\Family_health_Tracker\\ML_workspace\\daily_activity\\raw\\phone\\accel\\data_1640_accel_phone.txt\n",
      "D:\\bangkit\\capstone\\Family_health_Tracker\\ML_workspace\\daily_activity\\raw\\phone\\accel\\data_1641_accel_phone.txt\n",
      "D:\\bangkit\\capstone\\Family_health_Tracker\\ML_workspace\\daily_activity\\raw\\phone\\accel\\data_1642_accel_phone.txt\n",
      "D:\\bangkit\\capstone\\Family_health_Tracker\\ML_workspace\\daily_activity\\raw\\phone\\accel\\data_1643_accel_phone.txt\n",
      "D:\\bangkit\\capstone\\Family_health_Tracker\\ML_workspace\\daily_activity\\raw\\phone\\accel\\data_1644_accel_phone.txt\n",
      "D:\\bangkit\\capstone\\Family_health_Tracker\\ML_workspace\\daily_activity\\raw\\phone\\accel\\data_1645_accel_phone.txt\n",
      "D:\\bangkit\\capstone\\Family_health_Tracker\\ML_workspace\\daily_activity\\raw\\phone\\accel\\data_1646_accel_phone.txt\n",
      "D:\\bangkit\\capstone\\Family_health_Tracker\\ML_workspace\\daily_activity\\raw\\phone\\accel\\data_1647_accel_phone.txt\n",
      "D:\\bangkit\\capstone\\Family_health_Tracker\\ML_workspace\\daily_activity\\raw\\phone\\accel\\data_1648_accel_phone.txt\n",
      "D:\\bangkit\\capstone\\Family_health_Tracker\\ML_workspace\\daily_activity\\raw\\phone\\accel\\data_1649_accel_phone.txt\n",
      "D:\\bangkit\\capstone\\Family_health_Tracker\\ML_workspace\\daily_activity\\raw\\phone\\accel\\data_1650_accel_phone.txt\n"
     ]
    }
   ],
   "source": [
    "for dirname, _, filenames in os.walk(r'D:\\bangkit\\capstone\\Family_health_Tracker\\ML_workspace\\daily_activity\\raw\\phone\\accel'):\n",
    "    for index, filename in enumerate(filenames):\n",
    "        if index == 0:\n",
    "            continue\n",
    "        \n",
    "        print(os.path.join(dirname, filename))"
   ]
  },
  {
   "cell_type": "code",
   "execution_count": 3,
   "metadata": {},
   "outputs": [],
   "source": [
    "columns=['user','activity','time','x','y','z']\n",
    "\n",
    "data_phone_accel = pd.DataFrame(data=None,columns=columns)\n",
    "\n",
    "directory_phone_accel = r'D:\\bangkit\\capstone\\Family_health_Tracker\\ML_workspace\\daily_activity\\raw\\phone\\accel'\n",
    "\n",
    "for dirname, _, filenames in os.walk(directory_phone_accel):\n",
    "    for filename in filenames:\n",
    "        if filename == '.DS_Store': \n",
    "            continue\n",
    "        \n",
    "        file_path = os.path.join(dirname, filename)\n",
    "\n",
    "        df = pd.read_csv(file_path , sep=\",\", header=None)\n",
    "        temp=pd.DataFrame(data=df.values, columns=columns)\n",
    "        data_phone_accel=pd.concat([data_phone_accel,temp])"
   ]
  },
  {
   "cell_type": "code",
   "execution_count": 4,
   "metadata": {},
   "outputs": [
    {
     "data": {
      "text/html": [
       "<div>\n",
       "<style scoped>\n",
       "    .dataframe tbody tr th:only-of-type {\n",
       "        vertical-align: middle;\n",
       "    }\n",
       "\n",
       "    .dataframe tbody tr th {\n",
       "        vertical-align: top;\n",
       "    }\n",
       "\n",
       "    .dataframe thead th {\n",
       "        text-align: right;\n",
       "    }\n",
       "</style>\n",
       "<table border=\"1\" class=\"dataframe\">\n",
       "  <thead>\n",
       "    <tr style=\"text-align: right;\">\n",
       "      <th></th>\n",
       "      <th>user</th>\n",
       "      <th>activity</th>\n",
       "      <th>time</th>\n",
       "      <th>x</th>\n",
       "      <th>y</th>\n",
       "      <th>z</th>\n",
       "    </tr>\n",
       "  </thead>\n",
       "  <tbody>\n",
       "    <tr>\n",
       "      <th>0</th>\n",
       "      <td>1600</td>\n",
       "      <td>A</td>\n",
       "      <td>252207666810782</td>\n",
       "      <td>-0.364761</td>\n",
       "      <td>8.793503</td>\n",
       "      <td>1.0550842;</td>\n",
       "    </tr>\n",
       "    <tr>\n",
       "      <th>1</th>\n",
       "      <td>1600</td>\n",
       "      <td>A</td>\n",
       "      <td>252207717164786</td>\n",
       "      <td>-0.87973</td>\n",
       "      <td>9.768784</td>\n",
       "      <td>1.0169983;</td>\n",
       "    </tr>\n",
       "    <tr>\n",
       "      <th>2</th>\n",
       "      <td>1600</td>\n",
       "      <td>A</td>\n",
       "      <td>252207767518790</td>\n",
       "      <td>2.001495</td>\n",
       "      <td>11.10907</td>\n",
       "      <td>2.619156;</td>\n",
       "    </tr>\n",
       "    <tr>\n",
       "      <th>3</th>\n",
       "      <td>1600</td>\n",
       "      <td>A</td>\n",
       "      <td>252207817872794</td>\n",
       "      <td>0.450623</td>\n",
       "      <td>12.651642</td>\n",
       "      <td>0.18455505;</td>\n",
       "    </tr>\n",
       "    <tr>\n",
       "      <th>4</th>\n",
       "      <td>1600</td>\n",
       "      <td>A</td>\n",
       "      <td>252207868226798</td>\n",
       "      <td>-2.164352</td>\n",
       "      <td>13.928436</td>\n",
       "      <td>-4.4224854;</td>\n",
       "    </tr>\n",
       "  </tbody>\n",
       "</table>\n",
       "</div>"
      ],
      "text/plain": [
       "   user activity             time         x          y            z\n",
       "0  1600        A  252207666810782 -0.364761   8.793503   1.0550842;\n",
       "1  1600        A  252207717164786  -0.87973   9.768784   1.0169983;\n",
       "2  1600        A  252207767518790  2.001495   11.10907    2.619156;\n",
       "3  1600        A  252207817872794  0.450623  12.651642  0.18455505;\n",
       "4  1600        A  252207868226798 -2.164352  13.928436  -4.4224854;"
      ]
     },
     "execution_count": 4,
     "metadata": {},
     "output_type": "execute_result"
    }
   ],
   "source": [
    "data_phone_accel.head()"
   ]
  },
  {
   "cell_type": "code",
   "execution_count": 5,
   "metadata": {},
   "outputs": [
    {
     "name": "stdout",
     "output_type": "stream",
     "text": [
      "<class 'pandas.core.frame.DataFrame'>\n",
      "Index: 4804403 entries, 0 to 160778\n",
      "Data columns (total 6 columns):\n",
      " #   Column    Dtype \n",
      "---  ------    ----- \n",
      " 0   user      object\n",
      " 1   activity  object\n",
      " 2   time      object\n",
      " 3   x         object\n",
      " 4   y         object\n",
      " 5   z         object\n",
      "dtypes: object(6)\n",
      "memory usage: 256.6+ MB\n"
     ]
    }
   ],
   "source": [
    "data_phone_accel.info()"
   ]
  },
  {
   "cell_type": "code",
   "execution_count": 6,
   "metadata": {},
   "outputs": [
    {
     "name": "stdout",
     "output_type": "stream",
     "text": [
      "<class 'pandas.core.frame.DataFrame'>\n",
      "Index: 4804403 entries, 0 to 160778\n",
      "Data columns (total 6 columns):\n",
      " #   Column    Dtype  \n",
      "---  ------    -----  \n",
      " 0   user      object \n",
      " 1   activity  object \n",
      " 2   time      object \n",
      " 3   x         float64\n",
      " 4   y         float64\n",
      " 5   z         float64\n",
      "dtypes: float64(3), object(3)\n",
      "memory usage: 256.6+ MB\n"
     ]
    }
   ],
   "source": [
    "data_phone_accel['z'] = data_phone_accel['z'].str.replace(';','')\n",
    "data_phone_accel['activity'].value_counts()\n",
    "data_phone_accel['x']=data_phone_accel['x'].astype('float')\n",
    "data_phone_accel['y']=data_phone_accel['y'].astype('float')\n",
    "data_phone_accel['z']=data_phone_accel['z'].astype('float')\n",
    "data_phone_accel.info()"
   ]
  },
  {
   "cell_type": "code",
   "execution_count": 7,
   "metadata": {},
   "outputs": [
    {
     "data": {
      "text/plain": [
       "user        0\n",
       "activity    0\n",
       "time        0\n",
       "x           0\n",
       "y           0\n",
       "z           0\n",
       "dtype: int64"
      ]
     },
     "execution_count": 7,
     "metadata": {},
     "output_type": "execute_result"
    }
   ],
   "source": [
    "data_phone_accel.isna().sum()"
   ]
  },
  {
   "cell_type": "code",
   "execution_count": 8,
   "metadata": {},
   "outputs": [],
   "source": [
    "data_phone_gyro = pd.DataFrame(data=None,columns=columns)\n",
    "directory_phone_gyro = r'D:\\bangkit\\capstone\\Family_health_Tracker\\ML_workspace\\daily_activity\\raw\\phone\\gyro'\n",
    "for dirname, _, filenames in os.walk(directory_phone_gyro):\n",
    "    for filename in filenames:\n",
    "        if filename == '.DS_Store': \n",
    "            continue\n",
    "        \n",
    "        file_path = os.path.join(dirname, filename)\n",
    "\n",
    "        df = pd.read_csv (file_path , sep=\",\", header=None)\n",
    "        temp=pd.DataFrame(data=df.values, columns=columns)\n",
    "        data_phone_gyro=pd.concat([data_phone_gyro,temp])"
   ]
  },
  {
   "cell_type": "code",
   "execution_count": 9,
   "metadata": {},
   "outputs": [
    {
     "name": "stdout",
     "output_type": "stream",
     "text": [
      "<class 'pandas.core.frame.DataFrame'>\n",
      "Index: 3608635 entries, 0 to 80347\n",
      "Data columns (total 6 columns):\n",
      " #   Column    Dtype  \n",
      "---  ------    -----  \n",
      " 0   user      object \n",
      " 1   activity  object \n",
      " 2   time      object \n",
      " 3   x         float64\n",
      " 4   y         float64\n",
      " 5   z         float64\n",
      "dtypes: float64(3), object(3)\n",
      "memory usage: 192.7+ MB\n"
     ]
    }
   ],
   "source": [
    "data_phone_gyro['z'] = data_phone_gyro['z'].str.replace(';','')\n",
    "\n",
    "data_phone_gyro['x']=data_phone_gyro['x'].astype('float')\n",
    "data_phone_gyro['y']=data_phone_gyro['y'].astype('float')\n",
    "data_phone_gyro['z']=data_phone_gyro['z'].astype('float')\n",
    "\n",
    "data_phone_gyro['activity'].value_counts()\n",
    "data_phone_gyro.info()"
   ]
  },
  {
   "cell_type": "code",
   "execution_count": 10,
   "metadata": {},
   "outputs": [],
   "source": [
    "data_watch_accel = pd.DataFrame(data=None,columns=columns)\n",
    "directory_watch_accel = r'D:\\bangkit\\capstone\\Family_health_Tracker\\ML_workspace\\daily_activity\\raw\\watch\\accel'\n",
    "for dirname, _, filenames in os.walk(directory_watch_accel):\n",
    "    for filename in filenames:\n",
    "        if filename == '.DS_Store': \n",
    "            continue\n",
    "        \n",
    "        file_path = os.path.join(dirname, filename)\n",
    "\n",
    "        df = pd.read_csv (file_path , sep=\",\", header=None)\n",
    "        temp=pd.DataFrame(data=df.values, columns=columns)\n",
    "        data_watch_accel=pd.concat([data_watch_accel,temp])"
   ]
  },
  {
   "cell_type": "code",
   "execution_count": 11,
   "metadata": {},
   "outputs": [
    {
     "data": {
      "text/html": [
       "<div>\n",
       "<style scoped>\n",
       "    .dataframe tbody tr th:only-of-type {\n",
       "        vertical-align: middle;\n",
       "    }\n",
       "\n",
       "    .dataframe tbody tr th {\n",
       "        vertical-align: top;\n",
       "    }\n",
       "\n",
       "    .dataframe thead th {\n",
       "        text-align: right;\n",
       "    }\n",
       "</style>\n",
       "<table border=\"1\" class=\"dataframe\">\n",
       "  <thead>\n",
       "    <tr style=\"text-align: right;\">\n",
       "      <th></th>\n",
       "      <th>user</th>\n",
       "      <th>activity</th>\n",
       "      <th>time</th>\n",
       "      <th>x</th>\n",
       "      <th>y</th>\n",
       "      <th>z</th>\n",
       "    </tr>\n",
       "  </thead>\n",
       "  <tbody>\n",
       "    <tr>\n",
       "      <th>0</th>\n",
       "      <td>1600</td>\n",
       "      <td>A</td>\n",
       "      <td>90426708196641</td>\n",
       "      <td>7.091625</td>\n",
       "      <td>-0.591667</td>\n",
       "      <td>8.195502;</td>\n",
       "    </tr>\n",
       "    <tr>\n",
       "      <th>1</th>\n",
       "      <td>1600</td>\n",
       "      <td>A</td>\n",
       "      <td>90426757696641</td>\n",
       "      <td>4.972757</td>\n",
       "      <td>-0.158317</td>\n",
       "      <td>6.6967316;</td>\n",
       "    </tr>\n",
       "    <tr>\n",
       "      <th>2</th>\n",
       "      <td>1600</td>\n",
       "      <td>A</td>\n",
       "      <td>90426807196641</td>\n",
       "      <td>3.25372</td>\n",
       "      <td>-0.191835</td>\n",
       "      <td>6.107758;</td>\n",
       "    </tr>\n",
       "    <tr>\n",
       "      <th>3</th>\n",
       "      <td>1600</td>\n",
       "      <td>A</td>\n",
       "      <td>90426856696641</td>\n",
       "      <td>2.801216</td>\n",
       "      <td>-0.155922</td>\n",
       "      <td>5.997625;</td>\n",
       "    </tr>\n",
       "    <tr>\n",
       "      <th>4</th>\n",
       "      <td>1600</td>\n",
       "      <td>A</td>\n",
       "      <td>90426906196641</td>\n",
       "      <td>3.770868</td>\n",
       "      <td>-1.051354</td>\n",
       "      <td>7.731027;</td>\n",
       "    </tr>\n",
       "  </tbody>\n",
       "</table>\n",
       "</div>"
      ],
      "text/plain": [
       "   user activity            time         x         y           z\n",
       "0  1600        A  90426708196641  7.091625 -0.591667   8.195502;\n",
       "1  1600        A  90426757696641  4.972757 -0.158317  6.6967316;\n",
       "2  1600        A  90426807196641   3.25372 -0.191835   6.107758;\n",
       "3  1600        A  90426856696641  2.801216 -0.155922   5.997625;\n",
       "4  1600        A  90426906196641  3.770868 -1.051354   7.731027;"
      ]
     },
     "execution_count": 11,
     "metadata": {},
     "output_type": "execute_result"
    }
   ],
   "source": [
    "data_watch_accel.head()"
   ]
  },
  {
   "cell_type": "code",
   "execution_count": 12,
   "metadata": {},
   "outputs": [
    {
     "name": "stdout",
     "output_type": "stream",
     "text": [
      "<class 'pandas.core.frame.DataFrame'>\n",
      "Index: 3777046 entries, 0 to 66591\n",
      "Data columns (total 6 columns):\n",
      " #   Column    Dtype \n",
      "---  ------    ----- \n",
      " 0   user      object\n",
      " 1   activity  object\n",
      " 2   time      object\n",
      " 3   x         object\n",
      " 4   y         object\n",
      " 5   z         object\n",
      "dtypes: object(6)\n",
      "memory usage: 201.7+ MB\n"
     ]
    }
   ],
   "source": [
    "data_watch_accel.info()"
   ]
  },
  {
   "cell_type": "code",
   "execution_count": 13,
   "metadata": {},
   "outputs": [
    {
     "name": "stdout",
     "output_type": "stream",
     "text": [
      "<class 'pandas.core.frame.DataFrame'>\n",
      "Index: 3777046 entries, 0 to 66591\n",
      "Data columns (total 6 columns):\n",
      " #   Column    Dtype  \n",
      "---  ------    -----  \n",
      " 0   user      object \n",
      " 1   activity  object \n",
      " 2   time      object \n",
      " 3   x         float64\n",
      " 4   y         float64\n",
      " 5   z         float64\n",
      "dtypes: float64(3), object(3)\n",
      "memory usage: 201.7+ MB\n"
     ]
    }
   ],
   "source": [
    "data_watch_accel['z'] = data_watch_accel['z'].str.replace(';','')\n",
    "\n",
    "data_watch_accel['x']=data_watch_accel['x'].astype('float')\n",
    "data_watch_accel['y']=data_watch_accel['y'].astype('float')\n",
    "data_watch_accel['z']=data_watch_accel['z'].astype('float')\n",
    "\n",
    "data_watch_accel['activity'].value_counts()\n",
    "data_watch_accel.info()"
   ]
  },
  {
   "cell_type": "code",
   "execution_count": 14,
   "metadata": {},
   "outputs": [],
   "source": [
    "data_watch_gyro = pd.DataFrame(data=None,columns=columns)\n",
    "directory_watch_gyro = r'D:\\bangkit\\capstone\\Family_health_Tracker\\ML_workspace\\daily_activity\\raw\\watch\\gyro'\n",
    "for dirname, _, filenames in os.walk(directory_watch_gyro):\n",
    "    for filename in filenames:\n",
    "        if filename == '.DS_Store': \n",
    "            continue\n",
    "        \n",
    "        file_path = os.path.join(dirname, filename)\n",
    "\n",
    "        df = pd.read_csv (file_path , sep=\",\", header=None)\n",
    "        temp=pd.DataFrame(data=df.values, columns=columns)\n",
    "        data_watch_gyro=pd.concat([data_watch_gyro,temp])"
   ]
  },
  {
   "cell_type": "code",
   "execution_count": 15,
   "metadata": {},
   "outputs": [
    {
     "data": {
      "text/html": [
       "<div>\n",
       "<style scoped>\n",
       "    .dataframe tbody tr th:only-of-type {\n",
       "        vertical-align: middle;\n",
       "    }\n",
       "\n",
       "    .dataframe tbody tr th {\n",
       "        vertical-align: top;\n",
       "    }\n",
       "\n",
       "    .dataframe thead th {\n",
       "        text-align: right;\n",
       "    }\n",
       "</style>\n",
       "<table border=\"1\" class=\"dataframe\">\n",
       "  <thead>\n",
       "    <tr style=\"text-align: right;\">\n",
       "      <th></th>\n",
       "      <th>user</th>\n",
       "      <th>activity</th>\n",
       "      <th>time</th>\n",
       "      <th>x</th>\n",
       "      <th>y</th>\n",
       "      <th>z</th>\n",
       "    </tr>\n",
       "  </thead>\n",
       "  <tbody>\n",
       "    <tr>\n",
       "      <th>0</th>\n",
       "      <td>1600</td>\n",
       "      <td>A</td>\n",
       "      <td>90426757696641</td>\n",
       "      <td>0.314944</td>\n",
       "      <td>-1.022277</td>\n",
       "      <td>-0.3099616;</td>\n",
       "    </tr>\n",
       "    <tr>\n",
       "      <th>1</th>\n",
       "      <td>1600</td>\n",
       "      <td>A</td>\n",
       "      <td>90426807196641</td>\n",
       "      <td>0.387382</td>\n",
       "      <td>-0.618541</td>\n",
       "      <td>-0.048971802;</td>\n",
       "    </tr>\n",
       "    <tr>\n",
       "      <th>2</th>\n",
       "      <td>1600</td>\n",
       "      <td>A</td>\n",
       "      <td>90426856696641</td>\n",
       "      <td>0.070999</td>\n",
       "      <td>-0.20948</td>\n",
       "      <td>-0.1959783;</td>\n",
       "    </tr>\n",
       "    <tr>\n",
       "      <th>3</th>\n",
       "      <td>1600</td>\n",
       "      <td>A</td>\n",
       "      <td>90426906196641</td>\n",
       "      <td>0.037975</td>\n",
       "      <td>0.254976</td>\n",
       "      <td>-0.1565635;</td>\n",
       "    </tr>\n",
       "    <tr>\n",
       "      <th>4</th>\n",
       "      <td>1600</td>\n",
       "      <td>A</td>\n",
       "      <td>90426955696641</td>\n",
       "      <td>0.073129</td>\n",
       "      <td>0.719431</td>\n",
       "      <td>-0.0010349044;</td>\n",
       "    </tr>\n",
       "  </tbody>\n",
       "</table>\n",
       "</div>"
      ],
      "text/plain": [
       "   user activity            time         x         y               z\n",
       "0  1600        A  90426757696641  0.314944 -1.022277     -0.3099616;\n",
       "1  1600        A  90426807196641  0.387382 -0.618541   -0.048971802;\n",
       "2  1600        A  90426856696641  0.070999  -0.20948     -0.1959783;\n",
       "3  1600        A  90426906196641  0.037975  0.254976     -0.1565635;\n",
       "4  1600        A  90426955696641  0.073129  0.719431  -0.0010349044;"
      ]
     },
     "execution_count": 15,
     "metadata": {},
     "output_type": "execute_result"
    }
   ],
   "source": [
    "data_watch_gyro.head()"
   ]
  },
  {
   "cell_type": "code",
   "execution_count": 16,
   "metadata": {},
   "outputs": [
    {
     "name": "stdout",
     "output_type": "stream",
     "text": [
      "<class 'pandas.core.frame.DataFrame'>\n",
      "Index: 3440342 entries, 0 to 66555\n",
      "Data columns (total 6 columns):\n",
      " #   Column    Dtype \n",
      "---  ------    ----- \n",
      " 0   user      object\n",
      " 1   activity  object\n",
      " 2   time      object\n",
      " 3   x         object\n",
      " 4   y         object\n",
      " 5   z         object\n",
      "dtypes: object(6)\n",
      "memory usage: 183.7+ MB\n"
     ]
    }
   ],
   "source": [
    "data_watch_gyro.info()"
   ]
  },
  {
   "cell_type": "code",
   "execution_count": 17,
   "metadata": {},
   "outputs": [
    {
     "name": "stdout",
     "output_type": "stream",
     "text": [
      "<class 'pandas.core.frame.DataFrame'>\n",
      "Index: 3440342 entries, 0 to 66555\n",
      "Data columns (total 6 columns):\n",
      " #   Column    Dtype  \n",
      "---  ------    -----  \n",
      " 0   user      object \n",
      " 1   activity  object \n",
      " 2   time      object \n",
      " 3   x         float64\n",
      " 4   y         float64\n",
      " 5   z         float64\n",
      "dtypes: float64(3), object(3)\n",
      "memory usage: 183.7+ MB\n"
     ]
    }
   ],
   "source": [
    "data_watch_gyro['z'] = data_watch_gyro['z'].str.replace(';','')\n",
    "\n",
    "data_watch_gyro['x']=data_watch_gyro['x'].astype('float')\n",
    "data_watch_gyro['y']=data_watch_gyro['y'].astype('float')\n",
    "data_watch_gyro['z']=data_watch_gyro['z'].astype('float')\n",
    "\n",
    "data_watch_gyro['activity'].value_counts()\n",
    "data_watch_gyro.info()"
   ]
  },
  {
   "cell_type": "markdown",
   "metadata": {},
   "source": [
    "Menggabungkan data accel Telepon dan gyro"
   ]
  },
  {
   "cell_type": "code",
   "execution_count": 18,
   "metadata": {},
   "outputs": [],
   "source": [
    "df_phone = pd.DataFrame(data=None, columns=columns)\n",
    "df_phone['user']= data_phone_accel['user'].head(3608635)\n",
    "df_phone['activity']= data_phone_accel['activity'].head(3608635)\n",
    "df_phone['time']= data_phone_accel['time'].head(3608635)\n",
    "df_phone['x'] = data_phone_gyro['x'].values + data_phone_accel['x'].head(3608635).values\n",
    "df_phone['y'] = data_phone_gyro['y'].values + data_phone_accel['y'].head(3608635).values\n",
    "df_phone['z'] = data_phone_gyro['z'].values + data_phone_accel['z'].head(3608635).values"
   ]
  },
  {
   "cell_type": "markdown",
   "metadata": {},
   "source": [
    "Menggabungkan watch accelerometer dan gyro"
   ]
  },
  {
   "cell_type": "code",
   "execution_count": 19,
   "metadata": {},
   "outputs": [],
   "source": [
    "df_watch = pd.DataFrame(data=None, columns=columns)\n",
    "df_watch['user']= data_watch_accel['user'].head(3440342)\n",
    "df_watch['activity']= data_watch_accel['activity'].head(3440342)\n",
    "df_watch['time']= data_watch_accel['time'].head(3440342)\n",
    "df_watch['x'] = data_watch_gyro['x'].values + data_watch_accel['x'].head(3440342).values\n",
    "df_watch['y'] = data_watch_gyro['x'].values + data_watch_accel['y'].head(3440342).values\n",
    "df_watch['z'] = data_watch_gyro['x'].values + data_watch_accel['z'].head(3440342).values"
   ]
  },
  {
   "cell_type": "code",
   "execution_count": 20,
   "metadata": {},
   "outputs": [
    {
     "data": {
      "text/plain": [
       "activity\n",
       "A    217194\n",
       "K    213640\n",
       "H    207882\n",
       "I    207678\n",
       "M    207215\n",
       "G    206994\n",
       "E    206992\n",
       "B    205784\n",
       "D    201973\n",
       "P    201173\n",
       "O    200160\n",
       "R    196265\n",
       "L    194054\n",
       "S    193668\n",
       "C    193031\n",
       "Q    188703\n",
       "F    183740\n",
       "J    182489\n",
       "Name: count, dtype: int64"
      ]
     },
     "execution_count": 20,
     "metadata": {},
     "output_type": "execute_result"
    }
   ],
   "source": [
    "df_phone['activity'].value_counts()"
   ]
  },
  {
   "cell_type": "code",
   "execution_count": 21,
   "metadata": {},
   "outputs": [
    {
     "data": {
      "text/plain": [
       "activity\n",
       "E    198506\n",
       "K    197861\n",
       "D    195012\n",
       "P    194799\n",
       "Q    194782\n",
       "O    192099\n",
       "I    192041\n",
       "H    191460\n",
       "M    191170\n",
       "A    190717\n",
       "G    190713\n",
       "S    189727\n",
       "C    189302\n",
       "F    187129\n",
       "R    187126\n",
       "B    187115\n",
       "L    185677\n",
       "J    185106\n",
       "Name: count, dtype: int64"
      ]
     },
     "execution_count": 21,
     "metadata": {},
     "output_type": "execute_result"
    }
   ],
   "source": [
    "df_watch['activity'].value_counts()"
   ]
  },
  {
   "cell_type": "code",
   "execution_count": 22,
   "metadata": {},
   "outputs": [],
   "source": [
    "df_phone_watch = pd.DataFrame(data=None, columns=columns)\n",
    "df_phone_watch['user']= df_phone['user'].head(3440342)\n",
    "df_phone_watch['activity']= df_phone['activity'].head(3440342)\n",
    "df_phone_watch['time']= df_phone['time'].head(3440342)\n",
    "df_phone_watch['x'] = df_watch['x'].values + df_phone['x'].head(3440342).values\n",
    "df_phone_watch['y'] = df_watch['y'].values + df_phone['y'].head(3440342).values\n",
    "df_phone_watch['z'] = df_watch['z'].values + df_phone['z'].head(3440342).values"
   ]
  },
  {
   "cell_type": "code",
   "execution_count": 23,
   "metadata": {},
   "outputs": [
    {
     "name": "stdout",
     "output_type": "stream",
     "text": [
      "<class 'pandas.core.frame.DataFrame'>\n",
      "Index: 3440342 entries, 0 to 59277\n",
      "Data columns (total 6 columns):\n",
      " #   Column    Dtype  \n",
      "---  ------    -----  \n",
      " 0   user      object \n",
      " 1   activity  object \n",
      " 2   time      object \n",
      " 3   x         float64\n",
      " 4   y         float64\n",
      " 5   z         float64\n",
      "dtypes: float64(3), object(3)\n",
      "memory usage: 183.7+ MB\n"
     ]
    }
   ],
   "source": [
    "df_phone_watch.info()"
   ]
  },
  {
   "cell_type": "code",
   "execution_count": 24,
   "metadata": {},
   "outputs": [
    {
     "data": {
      "text/plain": [
       "activity\n",
       "A    208259\n",
       "K    204705\n",
       "M    198279\n",
       "E    198059\n",
       "B    196849\n",
       "G    194809\n",
       "D    193039\n",
       "C    193031\n",
       "P    192236\n",
       "O    191229\n",
       "H    190017\n",
       "I    189812\n",
       "R    187332\n",
       "L    185123\n",
       "S    184736\n",
       "F    183740\n",
       "Q    179770\n",
       "J    169317\n",
       "Name: count, dtype: int64"
      ]
     },
     "execution_count": 24,
     "metadata": {},
     "output_type": "execute_result"
    }
   ],
   "source": [
    "df_phone_watch['activity'].value_counts()"
   ]
  },
  {
   "cell_type": "code",
   "execution_count": 25,
   "metadata": {},
   "outputs": [],
   "source": [
    "Fs = 20"
   ]
  },
  {
   "cell_type": "code",
   "execution_count": 26,
   "metadata": {},
   "outputs": [],
   "source": [
    "activities = df_phone_watch['activity'].value_counts().index"
   ]
  },
  {
   "cell_type": "code",
   "execution_count": 27,
   "metadata": {},
   "outputs": [],
   "source": [
    "# df_phone_watch = df_phone_watch.drop(['user', 'time'], axis=1)"
   ]
  },
  {
   "cell_type": "code",
   "execution_count": 28,
   "metadata": {},
   "outputs": [
    {
     "data": {
      "text/plain": [
       "activity\n",
       "A    208259\n",
       "K    204705\n",
       "M    198279\n",
       "E    198059\n",
       "B    196849\n",
       "G    194809\n",
       "D    193039\n",
       "C    193031\n",
       "P    192236\n",
       "O    191229\n",
       "H    190017\n",
       "I    189812\n",
       "R    187332\n",
       "L    185123\n",
       "S    184736\n",
       "F    183740\n",
       "Q    179770\n",
       "J    169317\n",
       "Name: count, dtype: int64"
      ]
     },
     "execution_count": 28,
     "metadata": {},
     "output_type": "execute_result"
    }
   ],
   "source": [
    "df_phone_watch['activity'].value_counts()"
   ]
  },
  {
   "cell_type": "code",
   "execution_count": 29,
   "metadata": {},
   "outputs": [],
   "source": [
    "# df_f = df_phone_watch[df_phone_watch['activity']=='F'].head(4006)\n",
    "# df_g = df_phone_watch[df_phone_watch['activity']=='G'].head(4160)\n",
    "# df_h = df_phone_watch[df_phone_watch['activity']=='H'].head(4137)\n",
    "# df_i = df_phone_watch[df_phone_watch['activity']=='I'].head(4116)\n",
    "# df_j = df_phone_watch[df_phone_watch['activity']=='J'].head(4027)\n",
    "# df_k = df_phone_watch[df_phone_watch['activity']=='K'].head(4284)\n",
    "# df_l = df_phone_watch[df_phone_watch['activity']=='L'].head(4086)\n",
    "df_a = df_phone_watch[df_phone_watch['activity']=='A'].head(8000)\n",
    "df_b = df_phone_watch[df_phone_watch['activity']=='B'].head(8000)\n",
    "df_c = df_phone_watch[df_phone_watch['activity']=='C'].head(8000)\n",
    "df_d = df_phone_watch[df_phone_watch['activity']=='D'].head(8000)\n",
    "df_e = df_phone_watch[df_phone_watch['activity']=='E'].head(8000)\n",
    "df_m = df_phone_watch[df_phone_watch['activity']=='M'].head(8000)\n",
    "df_p = df_phone_watch[df_phone_watch['activity']=='P'].head(8000)\n",
    "df_o = df_phone_watch[df_phone_watch['activity']=='O'].head(8000)\n",
    "df_q = df_phone_watch[df_phone_watch['activity']=='Q'].head(8000)\n",
    "# df_r = df_phone_watch[df_phone_watch['activity']=='R'].head(7000)\n",
    "# df_s = df_phone_watch[df_phone_watch['activity']=='S'].head(7000)"
   ]
  },
  {
   "cell_type": "code",
   "execution_count": 30,
   "metadata": {},
   "outputs": [],
   "source": [
    "# balance_data = pd.concat([df_a,df_k, df_m, df_e, df_b, df_g, df_d, df_c, df_p, df_o, df_h, df_i, df_r, df_l, df_s, df_f, df_q, df_j]) \n",
    "balance_data = pd.concat([df_a,df_b,df_c,df_d,df_e,df_m,df_o,df_p,df_q])"
   ]
  },
  {
   "cell_type": "code",
   "execution_count": 31,
   "metadata": {},
   "outputs": [
    {
     "name": "stdout",
     "output_type": "stream",
     "text": [
      "activity\n",
      "A    8000\n",
      "B    8000\n",
      "C    8000\n",
      "D    8000\n",
      "E    8000\n",
      "M    8000\n",
      "O    8000\n",
      "P    8000\n",
      "Q    8000\n",
      "Name: count, dtype: int64\n"
     ]
    }
   ],
   "source": [
    "print(balance_data['activity'].value_counts())"
   ]
  },
  {
   "cell_type": "code",
   "execution_count": 32,
   "metadata": {},
   "outputs": [
    {
     "name": "stdout",
     "output_type": "stream",
     "text": [
      "       user activity             time          x          y          z  \\\n",
      "0      1600        A  252207666810782   6.188597   8.814006  10.455713   \n",
      "1      1600        A  252207717164786   3.605272  10.013322   8.263343   \n",
      "2      1600        A  252207767518790   4.606045  11.376722   8.513901   \n",
      "3      1600        A  252207817872794   2.718174  13.761097   5.978487   \n",
      "4      1600        A  252207868226798   1.299151  14.153046   3.168536   \n",
      "...     ...      ...              ...        ...        ...        ...   \n",
      "72096  1601        Q  259575772588344   8.595410  -1.557273  13.278905   \n",
      "72097  1601        Q  259575812502146  11.872968 -17.995435  15.553696   \n",
      "72098  1601        Q  259575852409853   1.515375 -18.559740  13.755783   \n",
      "72099  1601        Q  259575892398657  -5.602373 -11.008275  12.288358   \n",
      "72100  1601        Q  259575931917668  -6.212473  -3.664311  12.190553   \n",
      "\n",
      "       numeric_label  \n",
      "0                  9  \n",
      "1                  9  \n",
      "2                  9  \n",
      "3                  9  \n",
      "4                  9  \n",
      "...              ...  \n",
      "72096              1  \n",
      "72097              1  \n",
      "72098              1  \n",
      "72099              1  \n",
      "72100              1  \n",
      "\n",
      "[72000 rows x 7 columns]\n"
     ]
    }
   ],
   "source": [
    "string_lookup = tf.keras.layers.StringLookup()\n",
    "string_lookup.adapt(balance_data['activity'])\n",
    "balance_data['numeric_label'] = string_lookup(balance_data['activity'])\n",
    "\n",
    "# One-hot encode numeric label\n",
    "\n",
    "\n",
    "print(balance_data)"
   ]
  },
  {
   "cell_type": "code",
   "execution_count": 33,
   "metadata": {},
   "outputs": [
    {
     "name": "stdout",
     "output_type": "stream",
     "text": [
      "['[UNK]', 'Q', 'P', 'O', 'M', 'E', 'D', 'C', 'B', 'A']\n"
     ]
    }
   ],
   "source": [
    "classes = string_lookup.get_vocabulary()\n",
    "print(classes)"
   ]
  },
  {
   "cell_type": "code",
   "execution_count": 34,
   "metadata": {},
   "outputs": [],
   "source": [
    "balance_data.to_csv('cleaned_data_edit.csv', index=False)"
   ]
  }
 ],
 "metadata": {
  "kernelspec": {
   "display_name": "Bangkit-env",
   "language": "python",
   "name": "python3"
  },
  "language_info": {
   "codemirror_mode": {
    "name": "ipython",
    "version": 3
   },
   "file_extension": ".py",
   "mimetype": "text/x-python",
   "name": "python",
   "nbconvert_exporter": "python",
   "pygments_lexer": "ipython3",
   "version": "3.12.0"
  }
 },
 "nbformat": 4,
 "nbformat_minor": 2
}
